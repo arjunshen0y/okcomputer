{
 "cells": [
  {
   "cell_type": "code",
   "execution_count": 16,
   "metadata": {},
   "outputs": [],
   "source": [
    "import pandas as pd\n",
    "import numpy as np\n",
    "from xgboost import XGBClassifier\n",
    "import pickle"
   ]
  },
  {
   "cell_type": "code",
   "execution_count": 17,
   "metadata": {},
   "outputs": [],
   "source": [
    "df = pd.read_csv('hackathon.csv')"
   ]
  },
  {
   "cell_type": "code",
   "execution_count": 18,
   "metadata": {},
   "outputs": [
    {
     "data": {
      "text/html": [
       "<div>\n",
       "<style scoped>\n",
       "    .dataframe tbody tr th:only-of-type {\n",
       "        vertical-align: middle;\n",
       "    }\n",
       "\n",
       "    .dataframe tbody tr th {\n",
       "        vertical-align: top;\n",
       "    }\n",
       "\n",
       "    .dataframe thead th {\n",
       "        text-align: right;\n",
       "    }\n",
       "</style>\n",
       "<table border=\"1\" class=\"dataframe\">\n",
       "  <thead>\n",
       "    <tr style=\"text-align: right;\">\n",
       "      <th></th>\n",
       "      <th>Unnamed: 0</th>\n",
       "      <th>step</th>\n",
       "      <th>type</th>\n",
       "      <th>amount</th>\n",
       "      <th>nameOrig</th>\n",
       "      <th>oldbalanceOrg</th>\n",
       "      <th>newbalanceOrig</th>\n",
       "      <th>nameDest</th>\n",
       "      <th>oldbalanceDest</th>\n",
       "      <th>newbalanceDest</th>\n",
       "      <th>isFraud</th>\n",
       "      <th>isFlaggedFraud</th>\n",
       "    </tr>\n",
       "  </thead>\n",
       "  <tbody>\n",
       "    <tr>\n",
       "      <th>0</th>\n",
       "      <td>2</td>\n",
       "      <td>1</td>\n",
       "      <td>TRANSFER</td>\n",
       "      <td>181.0</td>\n",
       "      <td>C1305486145</td>\n",
       "      <td>181.0</td>\n",
       "      <td>0.0</td>\n",
       "      <td>C553264065</td>\n",
       "      <td>0.0</td>\n",
       "      <td>0.0</td>\n",
       "      <td>1</td>\n",
       "      <td>0</td>\n",
       "    </tr>\n",
       "    <tr>\n",
       "      <th>1</th>\n",
       "      <td>3</td>\n",
       "      <td>1</td>\n",
       "      <td>CASH_OUT</td>\n",
       "      <td>181.0</td>\n",
       "      <td>C840083671</td>\n",
       "      <td>181.0</td>\n",
       "      <td>0.0</td>\n",
       "      <td>C38997010</td>\n",
       "      <td>21182.0</td>\n",
       "      <td>0.0</td>\n",
       "      <td>1</td>\n",
       "      <td>0</td>\n",
       "    </tr>\n",
       "    <tr>\n",
       "      <th>2</th>\n",
       "      <td>251</td>\n",
       "      <td>1</td>\n",
       "      <td>TRANSFER</td>\n",
       "      <td>2806.0</td>\n",
       "      <td>C1420196421</td>\n",
       "      <td>2806.0</td>\n",
       "      <td>0.0</td>\n",
       "      <td>C972765878</td>\n",
       "      <td>0.0</td>\n",
       "      <td>0.0</td>\n",
       "      <td>1</td>\n",
       "      <td>0</td>\n",
       "    </tr>\n",
       "    <tr>\n",
       "      <th>3</th>\n",
       "      <td>252</td>\n",
       "      <td>1</td>\n",
       "      <td>CASH_OUT</td>\n",
       "      <td>2806.0</td>\n",
       "      <td>C2101527076</td>\n",
       "      <td>2806.0</td>\n",
       "      <td>0.0</td>\n",
       "      <td>C1007251739</td>\n",
       "      <td>26202.0</td>\n",
       "      <td>0.0</td>\n",
       "      <td>1</td>\n",
       "      <td>0</td>\n",
       "    </tr>\n",
       "    <tr>\n",
       "      <th>4</th>\n",
       "      <td>680</td>\n",
       "      <td>1</td>\n",
       "      <td>TRANSFER</td>\n",
       "      <td>20128.0</td>\n",
       "      <td>C137533655</td>\n",
       "      <td>20128.0</td>\n",
       "      <td>0.0</td>\n",
       "      <td>C1848415041</td>\n",
       "      <td>0.0</td>\n",
       "      <td>0.0</td>\n",
       "      <td>1</td>\n",
       "      <td>0</td>\n",
       "    </tr>\n",
       "  </tbody>\n",
       "</table>\n",
       "</div>"
      ],
      "text/plain": [
       "   Unnamed: 0  step      type   amount     nameOrig  oldbalanceOrg  \\\n",
       "0           2     1  TRANSFER    181.0  C1305486145          181.0   \n",
       "1           3     1  CASH_OUT    181.0   C840083671          181.0   \n",
       "2         251     1  TRANSFER   2806.0  C1420196421         2806.0   \n",
       "3         252     1  CASH_OUT   2806.0  C2101527076         2806.0   \n",
       "4         680     1  TRANSFER  20128.0   C137533655        20128.0   \n",
       "\n",
       "   newbalanceOrig     nameDest  oldbalanceDest  newbalanceDest  isFraud  \\\n",
       "0             0.0   C553264065             0.0             0.0        1   \n",
       "1             0.0    C38997010         21182.0             0.0        1   \n",
       "2             0.0   C972765878             0.0             0.0        1   \n",
       "3             0.0  C1007251739         26202.0             0.0        1   \n",
       "4             0.0  C1848415041             0.0             0.0        1   \n",
       "\n",
       "   isFlaggedFraud  \n",
       "0               0  \n",
       "1               0  \n",
       "2               0  \n",
       "3               0  \n",
       "4               0  "
      ]
     },
     "execution_count": 18,
     "metadata": {},
     "output_type": "execute_result"
    }
   ],
   "source": [
    "df.head()"
   ]
  },
  {
   "cell_type": "code",
   "execution_count": 19,
   "metadata": {},
   "outputs": [
    {
     "data": {
      "text/html": [
       "<div>\n",
       "<style scoped>\n",
       "    .dataframe tbody tr th:only-of-type {\n",
       "        vertical-align: middle;\n",
       "    }\n",
       "\n",
       "    .dataframe tbody tr th {\n",
       "        vertical-align: top;\n",
       "    }\n",
       "\n",
       "    .dataframe thead th {\n",
       "        text-align: right;\n",
       "    }\n",
       "</style>\n",
       "<table border=\"1\" class=\"dataframe\">\n",
       "  <thead>\n",
       "    <tr style=\"text-align: right;\">\n",
       "      <th></th>\n",
       "      <th>Unnamed: 0</th>\n",
       "      <th>step</th>\n",
       "      <th>type</th>\n",
       "      <th>amount</th>\n",
       "      <th>nameOrig</th>\n",
       "      <th>oldbalanceOrg</th>\n",
       "      <th>newbalanceOrig</th>\n",
       "      <th>nameDest</th>\n",
       "      <th>oldbalanceDest</th>\n",
       "      <th>newbalanceDest</th>\n",
       "      <th>isFraud</th>\n",
       "      <th>isFlaggedFraud</th>\n",
       "    </tr>\n",
       "  </thead>\n",
       "  <tbody>\n",
       "    <tr>\n",
       "      <th>0</th>\n",
       "      <td>2</td>\n",
       "      <td>1</td>\n",
       "      <td>TRANSFER</td>\n",
       "      <td>181.00</td>\n",
       "      <td>C1305486145</td>\n",
       "      <td>181.00</td>\n",
       "      <td>0.00</td>\n",
       "      <td>C553264065</td>\n",
       "      <td>0.00</td>\n",
       "      <td>0.00</td>\n",
       "      <td>1</td>\n",
       "      <td>0</td>\n",
       "    </tr>\n",
       "    <tr>\n",
       "      <th>1</th>\n",
       "      <td>3</td>\n",
       "      <td>1</td>\n",
       "      <td>CASH_OUT</td>\n",
       "      <td>181.00</td>\n",
       "      <td>C840083671</td>\n",
       "      <td>181.00</td>\n",
       "      <td>0.00</td>\n",
       "      <td>C38997010</td>\n",
       "      <td>21182.00</td>\n",
       "      <td>0.00</td>\n",
       "      <td>1</td>\n",
       "      <td>0</td>\n",
       "    </tr>\n",
       "    <tr>\n",
       "      <th>2</th>\n",
       "      <td>251</td>\n",
       "      <td>1</td>\n",
       "      <td>TRANSFER</td>\n",
       "      <td>2806.00</td>\n",
       "      <td>C1420196421</td>\n",
       "      <td>2806.00</td>\n",
       "      <td>0.00</td>\n",
       "      <td>C972765878</td>\n",
       "      <td>0.00</td>\n",
       "      <td>0.00</td>\n",
       "      <td>1</td>\n",
       "      <td>0</td>\n",
       "    </tr>\n",
       "    <tr>\n",
       "      <th>3</th>\n",
       "      <td>252</td>\n",
       "      <td>1</td>\n",
       "      <td>CASH_OUT</td>\n",
       "      <td>2806.00</td>\n",
       "      <td>C2101527076</td>\n",
       "      <td>2806.00</td>\n",
       "      <td>0.00</td>\n",
       "      <td>C1007251739</td>\n",
       "      <td>26202.00</td>\n",
       "      <td>0.00</td>\n",
       "      <td>1</td>\n",
       "      <td>0</td>\n",
       "    </tr>\n",
       "    <tr>\n",
       "      <th>4</th>\n",
       "      <td>680</td>\n",
       "      <td>1</td>\n",
       "      <td>TRANSFER</td>\n",
       "      <td>20128.00</td>\n",
       "      <td>C137533655</td>\n",
       "      <td>20128.00</td>\n",
       "      <td>0.00</td>\n",
       "      <td>C1848415041</td>\n",
       "      <td>0.00</td>\n",
       "      <td>0.00</td>\n",
       "      <td>1</td>\n",
       "      <td>0</td>\n",
       "    </tr>\n",
       "    <tr>\n",
       "      <th>...</th>\n",
       "      <td>...</td>\n",
       "      <td>...</td>\n",
       "      <td>...</td>\n",
       "      <td>...</td>\n",
       "      <td>...</td>\n",
       "      <td>...</td>\n",
       "      <td>...</td>\n",
       "      <td>...</td>\n",
       "      <td>...</td>\n",
       "      <td>...</td>\n",
       "      <td>...</td>\n",
       "      <td>...</td>\n",
       "    </tr>\n",
       "    <tr>\n",
       "      <th>16412</th>\n",
       "      <td>2596607</td>\n",
       "      <td>207</td>\n",
       "      <td>PAYMENT</td>\n",
       "      <td>18588.97</td>\n",
       "      <td>C264877418</td>\n",
       "      <td>393507.58</td>\n",
       "      <td>374918.61</td>\n",
       "      <td>M1037637931</td>\n",
       "      <td>0.00</td>\n",
       "      <td>0.00</td>\n",
       "      <td>0</td>\n",
       "      <td>0</td>\n",
       "    </tr>\n",
       "    <tr>\n",
       "      <th>16413</th>\n",
       "      <td>1740940</td>\n",
       "      <td>161</td>\n",
       "      <td>TRANSFER</td>\n",
       "      <td>94957.41</td>\n",
       "      <td>C1966589833</td>\n",
       "      <td>0.00</td>\n",
       "      <td>0.00</td>\n",
       "      <td>C37728871</td>\n",
       "      <td>827932.92</td>\n",
       "      <td>922890.33</td>\n",
       "      <td>0</td>\n",
       "      <td>0</td>\n",
       "    </tr>\n",
       "    <tr>\n",
       "      <th>16414</th>\n",
       "      <td>1107941</td>\n",
       "      <td>130</td>\n",
       "      <td>PAYMENT</td>\n",
       "      <td>4646.91</td>\n",
       "      <td>C821923409</td>\n",
       "      <td>336051.82</td>\n",
       "      <td>331404.91</td>\n",
       "      <td>M589073853</td>\n",
       "      <td>0.00</td>\n",
       "      <td>0.00</td>\n",
       "      <td>0</td>\n",
       "      <td>0</td>\n",
       "    </tr>\n",
       "    <tr>\n",
       "      <th>16415</th>\n",
       "      <td>5107980</td>\n",
       "      <td>355</td>\n",
       "      <td>DEBIT</td>\n",
       "      <td>2804.53</td>\n",
       "      <td>C1742662400</td>\n",
       "      <td>895.00</td>\n",
       "      <td>0.00</td>\n",
       "      <td>C1661446958</td>\n",
       "      <td>248929.59</td>\n",
       "      <td>251734.12</td>\n",
       "      <td>0</td>\n",
       "      <td>0</td>\n",
       "    </tr>\n",
       "    <tr>\n",
       "      <th>16416</th>\n",
       "      <td>2986857</td>\n",
       "      <td>231</td>\n",
       "      <td>PAYMENT</td>\n",
       "      <td>2536.35</td>\n",
       "      <td>C722862922</td>\n",
       "      <td>419.00</td>\n",
       "      <td>0.00</td>\n",
       "      <td>M1518438460</td>\n",
       "      <td>0.00</td>\n",
       "      <td>0.00</td>\n",
       "      <td>0</td>\n",
       "      <td>0</td>\n",
       "    </tr>\n",
       "  </tbody>\n",
       "</table>\n",
       "<p>16417 rows × 12 columns</p>\n",
       "</div>"
      ],
      "text/plain": [
       "       Unnamed: 0  step      type    amount     nameOrig  oldbalanceOrg  \\\n",
       "0               2     1  TRANSFER    181.00  C1305486145         181.00   \n",
       "1               3     1  CASH_OUT    181.00   C840083671         181.00   \n",
       "2             251     1  TRANSFER   2806.00  C1420196421        2806.00   \n",
       "3             252     1  CASH_OUT   2806.00  C2101527076        2806.00   \n",
       "4             680     1  TRANSFER  20128.00   C137533655       20128.00   \n",
       "...           ...   ...       ...       ...          ...            ...   \n",
       "16412     2596607   207   PAYMENT  18588.97   C264877418      393507.58   \n",
       "16413     1740940   161  TRANSFER  94957.41  C1966589833           0.00   \n",
       "16414     1107941   130   PAYMENT   4646.91   C821923409      336051.82   \n",
       "16415     5107980   355     DEBIT   2804.53  C1742662400         895.00   \n",
       "16416     2986857   231   PAYMENT   2536.35   C722862922         419.00   \n",
       "\n",
       "       newbalanceOrig     nameDest  oldbalanceDest  newbalanceDest  isFraud  \\\n",
       "0                0.00   C553264065            0.00            0.00        1   \n",
       "1                0.00    C38997010        21182.00            0.00        1   \n",
       "2                0.00   C972765878            0.00            0.00        1   \n",
       "3                0.00  C1007251739        26202.00            0.00        1   \n",
       "4                0.00  C1848415041            0.00            0.00        1   \n",
       "...               ...          ...             ...             ...      ...   \n",
       "16412       374918.61  M1037637931            0.00            0.00        0   \n",
       "16413            0.00    C37728871       827932.92       922890.33        0   \n",
       "16414       331404.91   M589073853            0.00            0.00        0   \n",
       "16415            0.00  C1661446958       248929.59       251734.12        0   \n",
       "16416            0.00  M1518438460            0.00            0.00        0   \n",
       "\n",
       "       isFlaggedFraud  \n",
       "0                   0  \n",
       "1                   0  \n",
       "2                   0  \n",
       "3                   0  \n",
       "4                   0  \n",
       "...               ...  \n",
       "16412               0  \n",
       "16413               0  \n",
       "16414               0  \n",
       "16415               0  \n",
       "16416               0  \n",
       "\n",
       "[16417 rows x 12 columns]"
      ]
     },
     "execution_count": 19,
     "metadata": {},
     "output_type": "execute_result"
    }
   ],
   "source": [
    "df.reset_index(drop=True)"
   ]
  },
  {
   "cell_type": "code",
   "execution_count": 20,
   "metadata": {},
   "outputs": [],
   "source": [
    "df.drop('Unnamed: 0', axis=1, inplace=True)"
   ]
  },
  {
   "cell_type": "code",
   "execution_count": 21,
   "metadata": {},
   "outputs": [],
   "source": [
    "from sklearn.preprocessing import StandardScaler\n",
    "scaler = StandardScaler()\n",
    "\n",
    "# data = df.copy()\n",
    "\n",
    "# #Ivde extracting nameOrig and nameDest where C is present\n",
    "# data['OrigC']=data['nameOrig'].apply(lambda x: 1 if str(x).find('C')==0 else 0)\n",
    "# data['DestC']=data['nameDest'].apply(lambda x: 1 if str(x).find('C')==0 else 0)\n",
    "\n",
    "# #Ivde creating new feature for transfer and cash_out\n",
    "# data['TRANSFER']=data['type'].apply(lambda x: 1 if x=='TRANSFER' else 0)\n",
    "# data['CASH_OUT']=data['type'].apply(lambda x: 1 if x=='CASH_OUT' else 0)\n",
    "\n",
    "droplist=['step','isFlaggedFraud','type','nameDest','nameOrig']\n",
    "\n",
    "#Preprocessing function \n",
    "def data_preprocessing(data):\n",
    "    \n",
    "    #Ivde extracting nameOrig and nameDest where C is present\n",
    "    \n",
    "    \n",
    "#     data['OrigC']=data['nameOrig'].apply(lambda x: 1 if str(x).find('C')==0 else 0)\n",
    "#     data['DestC']=data['nameDest'].apply(lambda x: 1 if str(x).find('C')==0 else 0)\n",
    "\n",
    "    #Ivde creating new feature for transfer and cash_out\n",
    "    data['TRANSFER']=data['type'].apply(lambda x: 1 if x=='TRANSFER' else 0)\n",
    "    data['CASH_OUT']=data['type'].apply(lambda x: 1 if x=='CASH_OUT' else 0)\n",
    "    \n",
    "    #Ivde extracting error in account balances\n",
    "    data['Amount Error']=(abs(data['oldbalanceOrg']-data['newbalanceOrig'])-data['amount'])\n",
    "          \n",
    "    data = data.drop(labels=droplist,axis=1)\n",
    "    \n",
    "    return data"
   ]
  },
  {
   "cell_type": "code",
   "execution_count": 22,
   "metadata": {},
   "outputs": [],
   "source": [
    "def model_result(model,x_test,y_test):\n",
    "    y_pred=model.predict(x_test)\n",
    "    print('F1-score :',(f1_score(y_test,y_pred)))\n",
    "    print('Confusion_matrix : ')\n",
    "    print(confusion_matrix(y_test,y_pred))\n",
    "    print(\"accuracy_score : \", end = '')\n",
    "    print(accuracy_score(y_test,y_pred))\n",
    "    print(\"classification_report\")\n",
    "    print(classification_report(y_test,y_pred))"
   ]
  },
  {
   "cell_type": "code",
   "execution_count": 23,
   "metadata": {},
   "outputs": [],
   "source": [
    "from sklearn.model_selection import train_test_split\n",
    "from sklearn.metrics import accuracy_score, f1_score, average_precision_score, classification_report, confusion_matrix\n",
    "from sklearn.model_selection import cross_val_score"
   ]
  },
  {
   "cell_type": "code",
   "execution_count": 24,
   "metadata": {},
   "outputs": [],
   "source": [
    "df = data_preprocessing(df)"
   ]
  },
  {
   "cell_type": "code",
   "execution_count": 25,
   "metadata": {},
   "outputs": [
    {
     "data": {
      "text/plain": [
       "1    8213\n",
       "0    8204\n",
       "Name: isFraud, dtype: int64"
      ]
     },
     "execution_count": 25,
     "metadata": {},
     "output_type": "execute_result"
    }
   ],
   "source": [
    "df['isFraud'].value_counts()"
   ]
  },
  {
   "cell_type": "code",
   "execution_count": 26,
   "metadata": {},
   "outputs": [
    {
     "name": "stdout",
     "output_type": "stream",
     "text": [
      "F1-score : 0.9979773462783171\n",
      "Confusion_matrix : \n",
      "[[2449    0]\n",
      " [  10 2467]]\n",
      "accuracy_score : 0.9979699553390174\n",
      "classification_report\n",
      "              precision    recall  f1-score   support\n",
      "\n",
      "           0       1.00      1.00      1.00      2449\n",
      "           1       1.00      1.00      1.00      2477\n",
      "\n",
      "    accuracy                           1.00      4926\n",
      "   macro avg       1.00      1.00      1.00      4926\n",
      "weighted avg       1.00      1.00      1.00      4926\n",
      "\n"
     ]
    }
   ],
   "source": [
    "\n",
    "X = df.drop('isFraud',axis=1)\n",
    "Y = df['isFraud']\n",
    "X = scaler.fit_transform(X) \n",
    "\n",
    "X_train, X_test, y_train, y_test = train_test_split(X, Y, test_size = 0.3,random_state=42, shuffle=True)\n",
    "from sklearn.ensemble import RandomForestClassifier\n",
    "rf_model = RandomForestClassifier()\n",
    "rf_model.fit(X_train,y_train)\n",
    "model_result(rf_model,X_test,y_test)"
   ]
  },
  {
   "cell_type": "code",
   "execution_count": 27,
   "metadata": {},
   "outputs": [],
   "source": [
    "filename = 'final_model.sav'\n",
    "pickle.dump(rf_model, open(filename, 'wb'))"
   ]
  },
  {
   "cell_type": "code",
   "execution_count": 28,
   "metadata": {},
   "outputs": [
    {
     "ename": "AttributeError",
     "evalue": "'numpy.ndarray' object has no attribute 'columns'",
     "output_type": "error",
     "traceback": [
      "\u001b[1;31m---------------------------------------------------------------------------\u001b[0m",
      "\u001b[1;31mAttributeError\u001b[0m                            Traceback (most recent call last)",
      "\u001b[1;32m<ipython-input-28-901c1061bf7c>\u001b[0m in \u001b[0;36m<module>\u001b[1;34m\u001b[0m\n\u001b[1;32m----> 1\u001b[1;33m \u001b[0mX\u001b[0m\u001b[1;33m.\u001b[0m\u001b[0mcolumns\u001b[0m\u001b[1;33m\u001b[0m\u001b[1;33m\u001b[0m\u001b[0m\n\u001b[0m",
      "\u001b[1;31mAttributeError\u001b[0m: 'numpy.ndarray' object has no attribute 'columns'"
     ]
    }
   ],
   "source": [
    "X.columns"
   ]
  },
  {
   "cell_type": "code",
   "execution_count": 30,
   "metadata": {},
   "outputs": [
    {
     "name": "stdout",
     "output_type": "stream",
     "text": [
      "fraud\n"
     ]
    }
   ],
   "source": [
    "lst = [562736,\n",
    "      287424,\n",
    "      'C276',\n",
    "     523875,\n",
    "      134874,\n",
    "      'C101739',\n",
    "      92742,\n",
    "      9029842,\n",
    "      'TRANSFER']\n",
    "#1\tCASH_OUT\t2806.00\tC2101527076\t2806.00\t0.00\tC1007251739\t26202.00\t0.00\t1\t\n",
    "\n",
    "arr = np.array(lst).reshape(1,-1)\n",
    "\n",
    "def data_preprocessing(data):\n",
    "    \n",
    "    #Ivde extracting nameOrig and nameDest where C is present\n",
    "    \n",
    "    droplist=['step','type','nameDest','nameOrig']\n",
    "\n",
    "    \n",
    "#     data['OrigC']=data['nameOrig'].apply(lambda x: 1 if str(x).find('C')==0 else 0)\n",
    "#     data['DestC']=data['nameDest'].apply(lambda x: 1 if str(x).find('C')==0 else 0)\n",
    "\n",
    "    #Ivde creating new feature for transfer and cash_out\n",
    "    data['TRANSFER']=data['type'].apply(lambda x: 1 if x=='TRANSFER' else 0)\n",
    "    data['CASH_OUT']=data['type'].apply(lambda x: 1 if x=='CASH_OUT' else 0)\n",
    "    \n",
    "    #Ivde extracting error in account balances\n",
    "    data['Amount Error']=(abs(data['oldbalanceOrg']-data['newbalanceOrig'])-data['amount'])\n",
    "       \n",
    "    data = data.drop(labels=droplist,axis=1)\n",
    "    \n",
    "    return data\n",
    "\n",
    "\n",
    "\n",
    "df = pd.DataFrame(data = arr,\n",
    "                  columns = ['step', 'amount', 'nameOrig','oldbalanceOrg', 'newbalanceOrig', 'nameDest', \n",
    "                  'oldbalanceDest', 'newbalanceDest', 'type'])\n",
    "\n",
    "df['step'] = df['step'].astype(int)\n",
    "df['amount'] = df['amount'].astype(float)\n",
    "df['oldbalanceOrg'] = df['oldbalanceOrg'].astype(float)\n",
    "df['newbalanceOrig'] = df['newbalanceOrig'].astype(float)\n",
    "df['oldbalanceDest'] = df['oldbalanceDest'].astype(float)\n",
    "df['newbalanceDest'] = df['newbalanceDest'].astype(float)    \n",
    "\n",
    "\n",
    "df = data_preprocessing(df)\n",
    "\n",
    "model = pickle.load(open('final_model.sav','rb'))\n",
    "\n",
    "prediction = model.predict(df)\n",
    "if prediction[0]==1:\n",
    "        print('fraud')\n",
    "elif prediction[0] ==0:\n",
    "        print('safe')"
   ]
  },
  {
   "cell_type": "code",
   "execution_count": 32,
   "metadata": {},
   "outputs": [],
   "source": [
    "#X_train.columns"
   ]
  },
  {
   "cell_type": "code",
   "execution_count": 33,
   "metadata": {},
   "outputs": [],
   "source": [
    "filename = 'scaler.sav'\n",
    "pickle.dump(scaler, open(filename, 'wb'))"
   ]
  },
  {
   "cell_type": "code",
   "execution_count": 34,
   "metadata": {},
   "outputs": [],
   "source": [
    "d = pd.read_csv('hackathon.csv')"
   ]
  },
  {
   "cell_type": "code",
   "execution_count": 35,
   "metadata": {},
   "outputs": [
    {
     "data": {
      "text/plain": [
       "4116"
      ]
     },
     "execution_count": 35,
     "metadata": {},
     "output_type": "execute_result"
    }
   ],
   "source": [
    "len(d[(d['type']=='CASH_OUT') & d['isFraud']==1])"
   ]
  },
  {
   "cell_type": "code",
   "execution_count": 36,
   "metadata": {},
   "outputs": [
    {
     "data": {
      "text/plain": [
       "4097"
      ]
     },
     "execution_count": 36,
     "metadata": {},
     "output_type": "execute_result"
    }
   ],
   "source": [
    "len(d[(d['type']=='TRANSFER') & d['isFraud']==1])"
   ]
  },
  {
   "cell_type": "code",
   "execution_count": 37,
   "metadata": {},
   "outputs": [
    {
     "data": {
      "text/plain": [
       "12301"
      ]
     },
     "execution_count": 37,
     "metadata": {},
     "output_type": "execute_result"
    }
   ],
   "source": [
    "len(d[(d['type']=='CASH_OUT') & d['isFraud']==0])"
   ]
  },
  {
   "cell_type": "code",
   "execution_count": 38,
   "metadata": {},
   "outputs": [
    {
     "data": {
      "text/plain": [
       "12320"
      ]
     },
     "execution_count": 38,
     "metadata": {},
     "output_type": "execute_result"
    }
   ],
   "source": [
    "len(d[(d['type']=='TRANSFER') & d['isFraud']==0])"
   ]
  },
  {
   "cell_type": "code",
   "execution_count": 39,
   "metadata": {},
   "outputs": [
    {
     "data": {
      "text/plain": [
       "Index(['Unnamed: 0', 'step', 'type', 'amount', 'nameOrig', 'oldbalanceOrg',\n",
       "       'newbalanceOrig', 'nameDest', 'oldbalanceDest', 'newbalanceDest',\n",
       "       'isFraud', 'isFlaggedFraud'],\n",
       "      dtype='object')"
      ]
     },
     "execution_count": 39,
     "metadata": {},
     "output_type": "execute_result"
    }
   ],
   "source": [
    "d.columns"
   ]
  },
  {
   "cell_type": "code",
   "execution_count": 40,
   "metadata": {},
   "outputs": [
    {
     "data": {
      "text/plain": [
       "8213"
      ]
     },
     "execution_count": 40,
     "metadata": {},
     "output_type": "execute_result"
    }
   ],
   "source": [
    "len(d[d['isFraud']==1])"
   ]
  },
  {
   "cell_type": "code",
   "execution_count": 41,
   "metadata": {},
   "outputs": [
    {
     "data": {
      "text/plain": [
       "8204"
      ]
     },
     "execution_count": 41,
     "metadata": {},
     "output_type": "execute_result"
    }
   ],
   "source": [
    "len(d[d['isFraud']==0])"
   ]
  },
  {
   "cell_type": "code",
   "execution_count": 42,
   "metadata": {},
   "outputs": [
    {
     "data": {
      "text/plain": [
       "16417"
      ]
     },
     "execution_count": 42,
     "metadata": {},
     "output_type": "execute_result"
    }
   ],
   "source": [
    "len(d)"
   ]
  },
  {
   "cell_type": "code",
   "execution_count": 43,
   "metadata": {},
   "outputs": [
    {
     "data": {
      "text/plain": [
       "7042"
      ]
     },
     "execution_count": 43,
     "metadata": {},
     "output_type": "execute_result"
    }
   ],
   "source": [
    "len(d[d['type']=='CASH_OUT'])"
   ]
  },
  {
   "cell_type": "code",
   "execution_count": 44,
   "metadata": {},
   "outputs": [
    {
     "data": {
      "text/plain": [
       "4791"
      ]
     },
     "execution_count": 44,
     "metadata": {},
     "output_type": "execute_result"
    }
   ],
   "source": [
    "len(d[d['type']=='TRANSFER'])"
   ]
  },
  {
   "cell_type": "code",
   "execution_count": 45,
   "metadata": {},
   "outputs": [
    {
     "data": {
      "text/plain": [
       "array(['TRANSFER', 'CASH_OUT', 'CASH_IN', 'PAYMENT', 'DEBIT'],\n",
       "      dtype=object)"
      ]
     },
     "execution_count": 45,
     "metadata": {},
     "output_type": "execute_result"
    }
   ],
   "source": [
    "d['type'].unique()"
   ]
  },
  {
   "cell_type": "code",
   "execution_count": null,
   "metadata": {},
   "outputs": [],
   "source": []
  },
  {
   "cell_type": "code",
   "execution_count": null,
   "metadata": {},
   "outputs": [],
   "source": []
  }
 ],
 "metadata": {
  "kernelspec": {
   "display_name": "Python 3",
   "language": "python",
   "name": "python3"
  },
  "language_info": {
   "codemirror_mode": {
    "name": "ipython",
    "version": 3
   },
   "file_extension": ".py",
   "mimetype": "text/x-python",
   "name": "python",
   "nbconvert_exporter": "python",
   "pygments_lexer": "ipython3",
   "version": "3.7.6"
  }
 },
 "nbformat": 4,
 "nbformat_minor": 4
}
